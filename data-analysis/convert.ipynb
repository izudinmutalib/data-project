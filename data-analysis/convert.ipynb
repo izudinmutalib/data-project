{
 "cells": [
  {
   "cell_type": "markdown",
   "id": "1944824d",
   "metadata": {},
   "source": [
    "## Convert to csv"
   ]
  },
  {
   "cell_type": "code",
   "execution_count": 7,
   "id": "6090c4a9",
   "metadata": {
    "scrolled": true
   },
   "outputs": [
    {
     "name": "stdout",
     "output_type": "stream",
     "text": [
      "Error: \n"
     ]
    }
   ],
   "source": [
    "import csv\n",
    "\n",
    "header=['SourceID','PNP_Flag','NotSureA','CrossSourceKey','SuperAdministrativeArea','AdministrativeArea','SubAdministrativeArea','Locality','DependentLocality','DoubleDependentLocality','Thoroughfare','DependentThoroughfare','PremiseNumber','Building','SubBuilding','SubBuildingFloor','Organization','Department','PostBox','PostalCodePrimary','PostalCodeSecondary','Latitude','Longtitude','Extra1','Extra2','Extra3','Extra4','Extra5','Extra6','Json']\n",
    "\n",
    "try:\n",
    "    with open(r'C:\\Users\\Izzuddin.Mutalib\\gx_data\\previous_aaa\\rd_GB_aaa_previous.txt', 'r', encoding='utf-8') as input_file:\n",
    "        reader = csv.reader(input_file, delimiter='\\t')\n",
    "        data = [row for row in reader]\n",
    "\n",
    "    with open(r'C:\\Users\\Izzuddin.Mutalib\\gx_data\\previous_aaa\\rd_GB_aaa_previous.csv', 'w', newline='', encoding='utf-8') as output_file:\n",
    "        writer = csv.writer(output_file, delimiter=',')\n",
    "        writer.writerow(header)\n",
    "        writer.writerows(data)\n",
    "\n",
    "    print('Success')\n",
    "except Exception as e:\n",
    "    print(f'Error: {e}')"
   ]
  },
  {
   "cell_type": "markdown",
   "id": "ec82757a",
   "metadata": {},
   "source": [
    "## Check unique value for column"
   ]
  },
  {
   "cell_type": "code",
   "execution_count": null,
   "id": "e9251d86",
   "metadata": {},
   "outputs": [],
   "source": [
    "import pandas as pd\n",
    "\n",
    "# Load your data into a pandas DataFrame\n",
    "df = pd.read_csv('rd_CH_aaa_new.csv')\n",
    "\n",
    "print(len(df['AdministrativeArea'].unique()))"
   ]
  },
  {
   "cell_type": "code",
   "execution_count": null,
   "id": "fcc3bfcb",
   "metadata": {},
   "outputs": [],
   "source": [
    "from pathlib import Path\n",
    "file = Path(data_asset_path)\n",
    "if file.is_file():\n",
    "    print(\"File exists\")\n",
    "else:\n",
    "    print(\"File does not exist\")\n"
   ]
  },
  {
   "cell_type": "code",
   "execution_count": 4,
   "id": "d702664c",
   "metadata": {
    "scrolled": true
   },
   "outputs": [
    {
     "name": "stdout",
     "output_type": "stream",
     "text": [
      "Error: Error tokenizing data. C error: Calling read(nbytes) on source failed. Try engine='python'.\n"
     ]
    }
   ],
   "source": [
    "import pandas as pd\n",
    "import glob\n",
    "\n",
    "country = ['GB']\n",
    "header = ['SourceID','PNP_Flag','NotSureA','CrossSourceKey','SuperAdministrativeArea','AdministrativeArea','SubAdministrativeArea','Locality','DependentLocality','DoubleDependentLocality','Thoroughfare','DependentThoroughfare','PremiseNumber','Building','SubBuilding','SubBuildingFloor','Organization','Department','PostBox','PostalCodePrimary','PostalCodeSecondary','Latitude','Longtitude','Extra1','Extra2','Extra3','Extra4','Extra5','Extra6','Json']\n",
    "encoding = 'utf-8'\n",
    "file_base_path = 'C:/Users/Izzuddin.Mutalib/gx_data/'\n",
    "\n",
    "def convert_txt_to_parquet(input_file,output_file,header,encoding):\n",
    "    df = pd.read_csv(input_file, header=None, delimiter='\\t', encoding=encoding)\n",
    "    df.columns = header\n",
    "    df.to_parquet(output_file)\n",
    "    print(df.head(5))\n",
    "\n",
    "try:\n",
    "    for iso2 in country:\n",
    "        \n",
    "        input_file_previous = glob.glob(file_base_path+'previous_aaa/rd_'+iso2+'_aaa_previous.txt')\n",
    "        output_file_previous = file_base_path+'previous_aaa/rd_'+iso2+'_aaa_previous.parquet'\n",
    "        input_file_new = glob.glob(file_base_path+'new_aaa/rd_'+iso2+'_aaa_new.txt')\n",
    "        output_file_new = file_base_path+'new_aaa/rd_'+iso2+'_aaa_new.parquet'\n",
    "        \n",
    "        for input_previous in input_file_previous:\n",
    "            convert_txt_to_parquet(input_previous,output_file_previous,header,encoding)\n",
    "            print('Previous '+iso2+' AAA conversion - Success!')\n",
    "            \n",
    "        for input_new in input_file_new:\n",
    "            convert_txt_to_parquet(input_new,output_file_new,header,encoding)\n",
    "            print('New '+iso2+' AAA conversion - Success!')\n",
    "    \n",
    "except Exception as e:\n",
    "    print(f'Error: {e}')"
   ]
  },
  {
   "cell_type": "code",
   "execution_count": null,
   "id": "f3d23bf0",
   "metadata": {},
   "outputs": [],
   "source": []
  }
 ],
 "metadata": {
  "kernelspec": {
   "display_name": "Python 3 (ipykernel)",
   "language": "python",
   "name": "python3"
  },
  "language_info": {
   "codemirror_mode": {
    "name": "ipython",
    "version": 3
   },
   "file_extension": ".py",
   "mimetype": "text/x-python",
   "name": "python",
   "nbconvert_exporter": "python",
   "pygments_lexer": "ipython3",
   "version": "3.9.12"
  }
 },
 "nbformat": 4,
 "nbformat_minor": 5
}
